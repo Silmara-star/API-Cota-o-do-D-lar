{
 "cells": [
  {
   "cell_type": "code",
   "execution_count": 26,
   "id": "fe2aea6e",
   "metadata": {},
   "outputs": [
    {
     "name": "stdout",
     "output_type": "stream",
     "text": [
      "<Response [200]>\n",
      "{'USDBRL': {'code': 'USD', 'codein': 'BRL', 'name': 'Dólar Americano/Real Brasileiro', 'high': '5.5895', 'low': '5.5219', 'varBid': '0.039', 'pctChange': '0.7', 'bid': '5.5847', 'ask': '5.5853', 'timestamp': '1721413616', 'create_date': '2024-07-19 15:26:56'}, 'EURBRL': {'code': 'EUR', 'codein': 'BRL', 'name': 'Euro/Real Brasileiro', 'high': '6.0895', 'low': '6.002', 'varBid': '-0.0128', 'pctChange': '-0.21', 'bid': '6.0727', 'ask': '6.0807', 'timestamp': '1721413597', 'create_date': '2024-07-19 15:26:37'}, 'BTCBRL': {'code': 'BTC', 'codein': 'BRL', 'name': 'Bitcoin/Real Brasileiro', 'high': '371818', 'low': '351714', 'varBid': '16118', 'pctChange': '4.54', 'bid': '370695', 'ask': '371052', 'timestamp': '1721413620', 'create_date': '2024-07-19 15:27:00'}}\n"
     ]
    }
   ],
   "source": [
    "import requests\n",
    "\n",
    "requisicao = requests.get(\" https://economia.awesomeapi.com.br/last/USD-BRL,EUR-BRL,BTC-BRL\")\n",
    "print(requisicao)\n",
    "print(requisicao.json())"
   ]
  },
  {
   "cell_type": "code",
   "execution_count": 21,
   "id": "2091d798",
   "metadata": {},
   "outputs": [
    {
     "name": "stdout",
     "output_type": "stream",
     "text": [
      "Requirement already satisfied: requests in c:\\users\\silmara\\anaconda3\\lib\\site-packages (2.28.1)\n",
      "Requirement already satisfied: idna<4,>=2.5 in c:\\users\\silmara\\anaconda3\\lib\\site-packages (from requests) (3.3)\n",
      "Requirement already satisfied: certifi>=2017.4.17 in c:\\users\\silmara\\anaconda3\\lib\\site-packages (from requests) (2022.9.14)\n",
      "Requirement already satisfied: charset-normalizer<3,>=2 in c:\\users\\silmara\\anaconda3\\lib\\site-packages (from requests) (2.0.4)\n",
      "Requirement already satisfied: urllib3<1.27,>=1.21.1 in c:\\users\\silmara\\anaconda3\\lib\\site-packages (from requests) (1.26.11)\n"
     ]
    }
   ],
   "source": [
    "!pip install requests"
   ]
  },
  {
   "cell_type": "code",
   "execution_count": 32,
   "id": "dc489baf",
   "metadata": {},
   "outputs": [
    {
     "name": "stdout",
     "output_type": "stream",
     "text": [
      "{'code': 'EUR', 'codein': 'BRL', 'name': 'Euro/Real Brasileiro', 'high': '6.0895', 'low': '6.002', 'varBid': '-0.0128', 'pctChange': '-0.21', 'bid': '6.0727', 'ask': '6.0807', 'timestamp': '1721413597', 'create_date': '2024-07-19 15:26:37'}\n"
     ]
    }
   ],
   "source": [
    "dic_requisicao = requisicao.json()\n",
    "print(dic_requisicao[\"EURBRL\"])"
   ]
  },
  {
   "cell_type": "code",
   "execution_count": null,
   "id": "95e9132f",
   "metadata": {},
   "outputs": [],
   "source": []
  }
 ],
 "metadata": {
  "kernelspec": {
   "display_name": "Python 3 (ipykernel)",
   "language": "python",
   "name": "python3"
  },
  "language_info": {
   "codemirror_mode": {
    "name": "ipython",
    "version": 3
   },
   "file_extension": ".py",
   "mimetype": "text/x-python",
   "name": "python",
   "nbconvert_exporter": "python",
   "pygments_lexer": "ipython3",
   "version": "3.9.13"
  }
 },
 "nbformat": 4,
 "nbformat_minor": 5
}
